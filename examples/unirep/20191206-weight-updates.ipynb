{
 "cells": [
  {
   "cell_type": "code",
   "execution_count": 1,
   "metadata": {},
   "outputs": [],
   "source": [
    "%load_ext autoreload\n",
    "%autoreload 2\n",
    "%matplotlib inline\n",
    "%config InlineBackend.figure_format = 'retina'"
   ]
  },
  {
   "cell_type": "code",
   "execution_count": 2,
   "metadata": {},
   "outputs": [
    {
     "name": "stdout",
     "output_type": "stream",
     "text": [
      "sequence length:  238\n"
     ]
    },
    {
     "name": "stderr",
     "output_type": "stream",
     "text": [
      "/home/kummear1/anaconda/envs/fundl-dev/lib/python3.7/site-packages/jax/lib/xla_bridge.py:114: UserWarning: No GPU/TPU found, falling back to CPU.\n",
      "  warnings.warn('No GPU/TPU found, falling back to CPU.')\n"
     ]
    },
    {
     "name": "stdout",
     "output_type": "stream",
     "text": [
      "embedding shape:  (239, 10)\n",
      "output:  [[ 6.03701472e-01  4.72046107e-01 -5.25433302e-01 ...  5.82538962e-01\n",
      "   4.91422802e-01  5.87047517e-01]\n",
      " [ 3.03941277e-07 -5.36410153e-05 -4.01969942e-08 ... -6.70601265e-04\n",
      "   1.27420835e-02 -2.79029626e-02]\n",
      " [ 7.54976791e-05 -8.29329249e-03 -9.17237834e-04 ...  1.57487695e-04\n",
      "   4.46955906e-03  6.78823702e-03]\n",
      " ...\n",
      " [ 6.71174144e-04  2.76400615e-02  1.47543967e-01 ...  1.25471931e-02\n",
      "   3.69270369e-02 -2.33784989e-02]\n",
      " [ 4.77424404e-03  2.77729742e-02  6.06863350e-02 ...  2.04841178e-02\n",
      "   4.66152318e-02 -3.19362395e-02]\n",
      " [ 1.18345907e-03  3.06937192e-02  8.87814388e-02 ...  8.07420537e-03\n",
      "   7.05695972e-02 -1.01826396e-02]]\n",
      "reps:  [ 0.00497921 -0.04242463  0.04092563 ...  0.03462332  0.07152246\n",
      " -0.00351865]\n",
      "output shape:  (239, 1900)\n",
      "Time taken: 4.50 seconds\n"
     ]
    }
   ],
   "source": [
    "from unirep_reimplementation import aa_seq_to_int\n",
    "import jax.numpy as np\n",
    "from fundl.layers.rnn import mlstm1900"
   ]
  },
  {
   "cell_type": "code",
   "execution_count": 3,
   "metadata": {},
   "outputs": [],
   "source": [
    "sequence = \"MRKGEELFTGVVPILVELDGDVNGHKFSVRGEGEGDATNGKLTLKFICTTGKLPVPWPTLVTTLTYGVQCFARYPDHMKQHDFFKSAMPEGYVQERTISFKDDGTYKTRAEVKFEGDTLVNRIELKGIDFKEDGNILGHKLEYNFNSHNVYITADKQKNGIKANFKIRHNVEDGSVQLADHYQQNTPIGDGPVLLPDNHYLSTQSVLSKDPNEKRDHMVLLEFVTAAGITHGMDELYK\""
   ]
  },
  {
   "cell_type": "code",
   "execution_count": 4,
   "metadata": {},
   "outputs": [],
   "source": [
    "from fundl.layers import dense\n",
    "from fundl.activations import softmax"
   ]
  },
  {
   "cell_type": "code",
   "execution_count": 5,
   "metadata": {},
   "outputs": [],
   "source": [
    "# load unirep pre-trained weights\n",
    "params = dict()\n",
    "params[\"unirep\"] = dict()\n",
    "params[\"unirep\"][\"gh\"] = np.load(\"1900_weights/rnn_mlstm_mlstm_gh:0.npy\")\n",
    "params[\"unirep\"][\"gmh\"] = np.load(\"1900_weights/rnn_mlstm_mlstm_gmh:0.npy\")\n",
    "params[\"unirep\"][\"gmx\"] = np.load(\"1900_weights/rnn_mlstm_mlstm_gmx:0.npy\")\n",
    "params[\"unirep\"][\"gx\"] = np.load(\"1900_weights/rnn_mlstm_mlstm_gx:0.npy\")\n",
    "\n",
    "params[\"unirep\"][\"wh\"] = np.load(\"1900_weights/rnn_mlstm_mlstm_wh:0.npy\")\n",
    "params[\"unirep\"][\"wmh\"] = np.load(\"1900_weights/rnn_mlstm_mlstm_wmh:0.npy\")\n",
    "params[\"unirep\"][\"wmx\"] = np.load(\"1900_weights/rnn_mlstm_mlstm_wmx:0.npy\")\n",
    "params[\"unirep\"][\"wx\"] = np.load(\"1900_weights/rnn_mlstm_mlstm_wx:0.npy\")\n",
    "\n",
    "params[\"unirep\"][\"b\"] = np.load(\"1900_weights/rnn_mlstm_mlstm_b:0.npy\")"
   ]
  },
  {
   "cell_type": "code",
   "execution_count": 6,
   "metadata": {},
   "outputs": [],
   "source": [
    "from fundl.weights import add_dense_params"
   ]
  },
  {
   "cell_type": "code",
   "execution_count": 7,
   "metadata": {},
   "outputs": [],
   "source": [
    "params = add_dense_params(params, \"dense\", input_dim=1900, output_dim=26)"
   ]
  },
  {
   "cell_type": "code",
   "execution_count": 8,
   "metadata": {},
   "outputs": [
    {
     "data": {
      "text/plain": [
       "dict_keys(['unirep', 'dense'])"
      ]
     },
     "execution_count": 8,
     "metadata": {},
     "output_type": "execute_result"
    }
   ],
   "source": [
    "params.keys()"
   ]
  },
  {
   "cell_type": "code",
   "execution_count": 9,
   "metadata": {},
   "outputs": [],
   "source": [
    "from fundl.layers.rnn import mlstm1900"
   ]
  },
  {
   "cell_type": "code",
   "execution_count": 10,
   "metadata": {},
   "outputs": [],
   "source": [
    "def model(p, x):\n",
    "    x = mlstm1900(p['unirep'], x)\n",
    "    x = dense(p['dense'], x, nonlin=softmax)\n",
    "    return x"
   ]
  },
  {
   "cell_type": "code",
   "execution_count": 11,
   "metadata": {},
   "outputs": [
    {
     "name": "stdout",
     "output_type": "stream",
     "text": [
      "embedding shape:  (239, 10)\n"
     ]
    }
   ],
   "source": [
    "sequence = aa_seq_to_int(sequence)[:-1]\n",
    "\n",
    "embeddings = np.load(\"1900_weights/embed_matrix:0.npy\")\n",
    "x = np.vstack([embeddings[i] for i in sequence])\n",
    "print(\"embedding shape: \", x.shape)"
   ]
  },
  {
   "cell_type": "code",
   "execution_count": 12,
   "metadata": {},
   "outputs": [
    {
     "data": {
      "text/plain": [
       "DeviceArray([[0.03974526, 0.04554541, 0.04773873, ..., 0.03906574,\n",
       "              0.04798882, 0.02813344],\n",
       "             [0.03951884, 0.03820375, 0.03702553, ..., 0.03749093,\n",
       "              0.0407745 , 0.03895325],\n",
       "             [0.03885591, 0.03452536, 0.0363565 , ..., 0.03999977,\n",
       "              0.04054311, 0.04435818],\n",
       "             ...,\n",
       "             [0.03493968, 0.0370485 , 0.04554243, ..., 0.03557619,\n",
       "              0.03681337, 0.045091  ],\n",
       "             [0.03704586, 0.0379707 , 0.04004375, ..., 0.03477773,\n",
       "              0.03667038, 0.03804887],\n",
       "             [0.03817863, 0.03915823, 0.0396863 , ..., 0.03621582,\n",
       "              0.0377139 , 0.04132376]], dtype=float32)"
      ]
     },
     "execution_count": 12,
     "metadata": {},
     "output_type": "execute_result"
    }
   ],
   "source": [
    "model(params, x)"
   ]
  },
  {
   "cell_type": "code",
   "execution_count": 13,
   "metadata": {},
   "outputs": [],
   "source": [
    "oh_mat = np.eye(26)\n",
    "oh = {i: oh_mat[i] for i in range(26)}\n",
    "y = np.vstack([[oh[i] for i in sequence[1:]], np.zeros(26)])"
   ]
  },
  {
   "cell_type": "code",
   "execution_count": 14,
   "metadata": {},
   "outputs": [],
   "source": [
    "from jax import grad\n",
    "from jax.experimental.optimizers import adam"
   ]
  },
  {
   "cell_type": "code",
   "execution_count": 15,
   "metadata": {},
   "outputs": [],
   "source": [
    "init, update, get_params = adam(step_size=0.005)"
   ]
  },
  {
   "cell_type": "code",
   "execution_count": 16,
   "metadata": {},
   "outputs": [],
   "source": [
    "from fundl.losses import neg_cross_entropy_loss"
   ]
  },
  {
   "cell_type": "code",
   "execution_count": 17,
   "metadata": {},
   "outputs": [],
   "source": [
    "dloss = grad(neg_cross_entropy_loss)"
   ]
  },
  {
   "cell_type": "code",
   "execution_count": 18,
   "metadata": {},
   "outputs": [],
   "source": [
    "import time"
   ]
  },
  {
   "cell_type": "code",
   "execution_count": null,
   "metadata": {},
   "outputs": [
    {
     "name": "stdout",
     "output_type": "stream",
     "text": [
      "0 0.16258058 time: 37.79021239280701\n",
      "1 0.15013629 time: 33.051103830337524\n",
      "2 0.160756 time: 158.2134461402893\n",
      "3 0.15814093 time: 238.71153569221497\n",
      "4 0.14887147 time: 238.2558035850525\n",
      "5 0.14526771 time: 329.3936948776245\n",
      "6 0.14284708 time: 303.70419669151306\n",
      "7 0.14056934 time: 297.2267339229584\n",
      "8 0.13960335 time: 292.0242998600006\n"
     ]
    }
   ],
   "source": [
    "state = init(params)\n",
    "for i in range(1000):\n",
    "    start= time.time()\n",
    "    g = dloss(params, model, x, y)\n",
    "    l = neg_cross_entropy_loss(params, model, x, y)\n",
    "\n",
    "    state = update(i, g, state)\n",
    "    params = get_params(state)\n",
    "    \n",
    "    print(i, l, 'time:', time.time() - start)"
   ]
  },
  {
   "cell_type": "code",
   "execution_count": null,
   "metadata": {},
   "outputs": [],
   "source": []
  },
  {
   "cell_type": "code",
   "execution_count": null,
   "metadata": {},
   "outputs": [],
   "source": []
  }
 ],
 "metadata": {
  "kernelspec": {
   "display_name": "fundl-dev",
   "language": "python",
   "name": "fundl-dev"
  },
  "language_info": {
   "codemirror_mode": {
    "name": "ipython",
    "version": 3
   },
   "file_extension": ".py",
   "mimetype": "text/x-python",
   "name": "python",
   "nbconvert_exporter": "python",
   "pygments_lexer": "ipython3",
   "version": "3.7.3"
  }
 },
 "nbformat": 4,
 "nbformat_minor": 4
}
